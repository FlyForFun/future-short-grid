{
 "cells": [
  {
   "cell_type": "code",
   "execution_count": 1,
   "id": "b789df90",
   "metadata": {},
   "outputs": [],
   "source": [
    "# -*- coding: utf-8 -*-\n",
    "from app.BinanceAPI import BinanceAPI\n",
    "from app.authorization import api_key,api_secret\n",
    "from data.runBetData import RunBetData\n",
    "from app.dingding import Message\n",
    "from data.calcIndex import CalcIndex\n",
    "import time"
   ]
  },
  {
   "cell_type": "code",
   "execution_count": 2,
   "id": "f6aaf6e3",
   "metadata": {},
   "outputs": [],
   "source": [
    "binan = BinanceAPI(api_key,api_secret)\n",
    "runbet = RunBetData()\n",
    "msg = Message()\n",
    "index = CalcIndex()"
   ]
  },
  {
   "cell_type": "code",
   "execution_count": 3,
   "id": "e239b749",
   "metadata": {},
   "outputs": [],
   "source": [
    "class Run_Main():\n",
    "\n",
    "    def __init__(self):\n",
    "        self.coinList = runbet.get_coinList()\n",
    "        # self.coinType = runbet.get_cointype()  # 交易币种\n",
    "        # self.profitRatio = runbet.get_profit_ratio() # 止盈比率\n",
    "        # self.doubleThrowRatio = runbet.get_double_throw_ratio() # 补仓比率\n",
    "        pass\n",
    "\n",
    "    def pre_data(self,cointype):\n",
    "        future_buy_price = runbet.get_future_buy_price(cointype)  # 现货买入价格\n",
    "        future_sell_price = runbet.get_future_sell_price(cointype)  # 现货卖出价格\n",
    "        future_quantity = runbet.get_future_quantity(cointype)  # 期货买入量\n",
    "        future_step = runbet.get_future_step(cointype)  # 当前期货步数(手数)\n",
    "\n",
    "        cur_market_price = binan.get_ticker_price(cointype)  # 当前交易对市价\n",
    "        right_size = len(str(cur_market_price).split(\".\")[1])\n",
    "        return [future_buy_price,future_sell_price,future_quantity,future_step,cur_market_price,right_size]\n",
    "\n",
    "    def loop_run(self):\n",
    "        while True:\n",
    "            for coinType in self.coinList:\n",
    "                [future_buy_price,future_sell_price,future_quantity,future_step,cur_market_price,right_size] = self.pre_data(coinType)\n",
    "                # 开空\n",
    "                if future_buy_price <= cur_market_price and index.calcAngle(coinType, \"5m\",True,right_size):  # 是否满足开仓价\n",
    "                    print('开仓已挂单')\n",
    "                    future_res = msg.open_sell_market_msg(coinType, future_quantity)  # 期货买入开空\n",
    "                    if 'orderId' in future_res and future_res['orderId']:\n",
    "                        time.sleep(1)\n",
    "                        runbet.set_ratio(coinType)\n",
    "                        runbet.set_record_price(coinType,cur_market_price) # 记录买入价格\n",
    "                        runbet.modify_future_price(coinType,cur_market_price,future_step + 1)  # 修改data.json中价格\n",
    "                        # runbet.set_future_step(coinType,)\n",
    "                        time.sleep(60 * 1)  # 挂单后，停止运行1分钟\n",
    "                    else:\n",
    "                        break\n",
    "\n",
    "                # 平空\n",
    "                elif future_sell_price >= cur_market_price and index.calcAngle(coinType, \"5m\", False,right_size):  # 是否满足卖出价\n",
    "                    if future_step > 0:\n",
    "                        print('平仓已挂单')\n",
    "                        future_res = msg.do_sell_market_msg(coinType, runbet.get_future_quantity(coinType,False))  # 期货卖出开多\n",
    "                        if 'orderId' in future_res and future_res['orderId']:\n",
    "                            runbet.set_ratio(coinType)\n",
    "                            runbet.modify_future_price(coinType,runbet.get_record_price(coinType),future_step - 1)  # 修改data.json中价格\n",
    "                            time.sleep(60 * 0.5)  # 挂单后，停止运行1分钟\n",
    "                        else:\n",
    "                            break\n",
    "                    else:\n",
    "                        runbet.modify_future_price(coinType,cur_market_price,future_step)\n",
    "\n",
    "                time.sleep(2) # 为了不被币安api请求次数限制\n"
   ]
  },
  {
   "cell_type": "code",
   "execution_count": null,
   "id": "192a155b",
   "metadata": {},
   "outputs": [
    {
     "name": "stdout",
     "output_type": "stream",
     "text": [
      "开仓已挂单\n",
      "{'orderId': 8389765499753333088, 'symbol': 'ETHUSDT', 'status': 'NEW', 'clientOrderId': 'lOCXLk439rdc1mVgyQyrm9', 'price': '0', 'avgPrice': '0.00000', 'origQty': '0.005', 'executedQty': '0', 'cumQty': '0', 'cumQuote': '0', 'timeInForce': 'GTC', 'type': 'MARKET', 'reduceOnly': False, 'closePosition': False, 'side': 'SELL', 'positionSide': 'SHORT', 'stopPrice': '0', 'workingType': 'CONTRACT_PRICE', 'priceProtect': False, 'origType': 'MARKET', 'updateTime': 1623259754168}\n"
     ]
    }
   ],
   "source": [
    "if __name__ == \"__main__\":\n",
    "\n",
    "    instance = Run_Main()\n",
    "    instance.loop_run()\n",
    "    print(runbet.get_record_price(\"ETHUSDT\"))"
   ]
  },
  {
   "cell_type": "code",
   "execution_count": null,
   "id": "024ec968",
   "metadata": {},
   "outputs": [],
   "source": []
  }
 ],
 "metadata": {
  "kernelspec": {
   "display_name": "Python 3",
   "language": "python",
   "name": "python3"
  },
  "language_info": {
   "codemirror_mode": {
    "name": "ipython",
    "version": 3
   },
   "file_extension": ".py",
   "mimetype": "text/x-python",
   "name": "python",
   "nbconvert_exporter": "python",
   "pygments_lexer": "ipython3",
   "version": "3.8.10"
  }
 },
 "nbformat": 4,
 "nbformat_minor": 5
}
